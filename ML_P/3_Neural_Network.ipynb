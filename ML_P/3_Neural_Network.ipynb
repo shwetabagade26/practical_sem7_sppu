{
 "cells": [
  {
   "cell_type": "code",
   "execution_count": 1,
   "metadata": {
    "id": "atw2Xac9I0xl"
   },
   "outputs": [],
   "source": [
    "import numpy as np\n",
    "import matplotlib.pyplot as plt\n",
    "import pandas as pd\n",
    "import seaborn as sns\n",
    "sns.set()"
   ]
  },
  {
   "cell_type": "code",
   "execution_count": 3,
   "metadata": {
    "colab": {
     "base_uri": "https://localhost:8080/",
     "height": 302
    },
    "id": "NPfi2q75I0xl",
    "outputId": "1f049900-3b13-433a-fa05-c439e3d9c2de"
   },
   "outputs": [
    {
     "data": {
      "text/html": [
       "<div>\n",
       "<style scoped>\n",
       "    .dataframe tbody tr th:only-of-type {\n",
       "        vertical-align: middle;\n",
       "    }\n",
       "\n",
       "    .dataframe tbody tr th {\n",
       "        vertical-align: top;\n",
       "    }\n",
       "\n",
       "    .dataframe thead th {\n",
       "        text-align: right;\n",
       "    }\n",
       "</style>\n",
       "<table border=\"1\" class=\"dataframe\">\n",
       "  <thead>\n",
       "    <tr style=\"text-align: right;\">\n",
       "      <th></th>\n",
       "      <th>CustomerId</th>\n",
       "      <th>Surname</th>\n",
       "      <th>CreditScore</th>\n",
       "      <th>Geography</th>\n",
       "      <th>Gender</th>\n",
       "      <th>Age</th>\n",
       "      <th>Tenure</th>\n",
       "      <th>Balance</th>\n",
       "      <th>NumOfProducts</th>\n",
       "      <th>HasCrCard</th>\n",
       "      <th>IsActiveMember</th>\n",
       "      <th>EstimatedSalary</th>\n",
       "      <th>Exited</th>\n",
       "    </tr>\n",
       "    <tr>\n",
       "      <th>RowNumber</th>\n",
       "      <th></th>\n",
       "      <th></th>\n",
       "      <th></th>\n",
       "      <th></th>\n",
       "      <th></th>\n",
       "      <th></th>\n",
       "      <th></th>\n",
       "      <th></th>\n",
       "      <th></th>\n",
       "      <th></th>\n",
       "      <th></th>\n",
       "      <th></th>\n",
       "      <th></th>\n",
       "    </tr>\n",
       "  </thead>\n",
       "  <tbody>\n",
       "    <tr>\n",
       "      <th>1</th>\n",
       "      <td>15634602</td>\n",
       "      <td>Hargrave</td>\n",
       "      <td>619</td>\n",
       "      <td>France</td>\n",
       "      <td>Female</td>\n",
       "      <td>42</td>\n",
       "      <td>2</td>\n",
       "      <td>0.00</td>\n",
       "      <td>1</td>\n",
       "      <td>1</td>\n",
       "      <td>1</td>\n",
       "      <td>101348.88</td>\n",
       "      <td>1</td>\n",
       "    </tr>\n",
       "    <tr>\n",
       "      <th>2</th>\n",
       "      <td>15647311</td>\n",
       "      <td>Hill</td>\n",
       "      <td>608</td>\n",
       "      <td>Spain</td>\n",
       "      <td>Female</td>\n",
       "      <td>41</td>\n",
       "      <td>1</td>\n",
       "      <td>83807.86</td>\n",
       "      <td>1</td>\n",
       "      <td>0</td>\n",
       "      <td>1</td>\n",
       "      <td>112542.58</td>\n",
       "      <td>0</td>\n",
       "    </tr>\n",
       "    <tr>\n",
       "      <th>3</th>\n",
       "      <td>15619304</td>\n",
       "      <td>Onio</td>\n",
       "      <td>502</td>\n",
       "      <td>France</td>\n",
       "      <td>Female</td>\n",
       "      <td>42</td>\n",
       "      <td>8</td>\n",
       "      <td>159660.80</td>\n",
       "      <td>3</td>\n",
       "      <td>1</td>\n",
       "      <td>0</td>\n",
       "      <td>113931.57</td>\n",
       "      <td>1</td>\n",
       "    </tr>\n",
       "    <tr>\n",
       "      <th>4</th>\n",
       "      <td>15701354</td>\n",
       "      <td>Boni</td>\n",
       "      <td>699</td>\n",
       "      <td>France</td>\n",
       "      <td>Female</td>\n",
       "      <td>39</td>\n",
       "      <td>1</td>\n",
       "      <td>0.00</td>\n",
       "      <td>2</td>\n",
       "      <td>0</td>\n",
       "      <td>0</td>\n",
       "      <td>93826.63</td>\n",
       "      <td>0</td>\n",
       "    </tr>\n",
       "    <tr>\n",
       "      <th>5</th>\n",
       "      <td>15737888</td>\n",
       "      <td>Mitchell</td>\n",
       "      <td>850</td>\n",
       "      <td>Spain</td>\n",
       "      <td>Female</td>\n",
       "      <td>43</td>\n",
       "      <td>2</td>\n",
       "      <td>125510.82</td>\n",
       "      <td>1</td>\n",
       "      <td>1</td>\n",
       "      <td>1</td>\n",
       "      <td>79084.10</td>\n",
       "      <td>0</td>\n",
       "    </tr>\n",
       "  </tbody>\n",
       "</table>\n",
       "</div>"
      ],
      "text/plain": [
       "           CustomerId   Surname  CreditScore Geography  Gender  Age  Tenure  \\\n",
       "RowNumber                                                                     \n",
       "1            15634602  Hargrave          619    France  Female   42       2   \n",
       "2            15647311      Hill          608     Spain  Female   41       1   \n",
       "3            15619304      Onio          502    France  Female   42       8   \n",
       "4            15701354      Boni          699    France  Female   39       1   \n",
       "5            15737888  Mitchell          850     Spain  Female   43       2   \n",
       "\n",
       "             Balance  NumOfProducts  HasCrCard  IsActiveMember  \\\n",
       "RowNumber                                                        \n",
       "1               0.00              1          1               1   \n",
       "2           83807.86              1          0               1   \n",
       "3          159660.80              3          1               0   \n",
       "4               0.00              2          0               0   \n",
       "5          125510.82              1          1               1   \n",
       "\n",
       "           EstimatedSalary  Exited  \n",
       "RowNumber                           \n",
       "1                101348.88       1  \n",
       "2                112542.58       0  \n",
       "3                113931.57       1  \n",
       "4                 93826.63       0  \n",
       "5                 79084.10       0  "
      ]
     },
     "execution_count": 3,
     "metadata": {},
     "output_type": "execute_result"
    }
   ],
   "source": [
    "dataset = pd.read_csv('Churn_Modelling.csv', index_col = 'RowNumber')\n",
    "dataset.head()\n"
   ]
  },
  {
   "cell_type": "code",
   "execution_count": 4,
   "metadata": {
    "colab": {
     "base_uri": "https://localhost:8080/"
    },
    "id": "jelFHwknI0xm",
    "outputId": "e8e8af69-44e3-4b72-84cf-e15d6b026a5f"
   },
   "outputs": [
    {
     "name": "stdout",
     "output_type": "stream",
     "text": [
      "['CreditScore', 'Geography', 'Gender', 'Age', 'Tenure', 'Balance', 'NumOfProducts', 'HasCrCard', 'IsActiveMember', 'EstimatedSalary']\n",
      "['Exited']\n"
     ]
    }
   ],
   "source": [
    "#Customer ID and Surname would not be relevant as features\n",
    "X_columns = dataset.columns.tolist()[2:12]\n",
    "Y_columns = dataset.columns.tolist()[-1:]\n",
    "print(X_columns)\n",
    "print(Y_columns)"
   ]
  },
  {
   "cell_type": "code",
   "execution_count": 5,
   "metadata": {
    "id": "_EnXaCYmI0xn"
   },
   "outputs": [],
   "source": [
    "X = dataset[X_columns].values \n",
    "Y = dataset[Y_columns].values"
   ]
  },
  {
   "cell_type": "code",
   "execution_count": 6,
   "metadata": {
    "id": "cjbVx3FRI0xn"
   },
   "outputs": [],
   "source": [
    "#We need to encode categorical variables such as geography and gender\n",
    "from sklearn.preprocessing import LabelEncoder\n",
    "X_column_transformer = LabelEncoder()\n",
    "X[:, 1] = X_column_transformer.fit_transform(X[:, 1])"
   ]
  },
  {
   "cell_type": "code",
   "execution_count": 7,
   "metadata": {
    "id": "tS02t4y9I0xn"
   },
   "outputs": [],
   "source": [
    "#Lets Encode gender now\n",
    "X[:, 2] = X_column_transformer.fit_transform(X[:, 2])"
   ]
  },
  {
   "cell_type": "markdown",
   "metadata": {
    "id": "DKwFc-HWI0xo"
   },
   "source": [
    "We are treating countries with ordinal values(0 < 1 < 2) but they are incomparable.\n",
    "To solve this we can use one hot encoding.\n",
    "We will perform some standardization "
   ]
  },
  {
   "cell_type": "code",
   "execution_count": 8,
   "metadata": {
    "id": "v-bI9UNiI0xo"
   },
   "outputs": [],
   "source": [
    "from sklearn.preprocessing import StandardScaler, OneHotEncoder\n",
    "from sklearn.compose import ColumnTransformer\n",
    "from sklearn.pipeline import Pipeline\n",
    "\n",
    "pipeline = Pipeline(\n",
    "    [\n",
    "        ('Categorizer', ColumnTransformer(\n",
    "            [\n",
    "                (\"Gender Label Encoder\", OneHotEncoder(categories = 'auto', drop = 'first'), [2]),\n",
    "                (\"Geography Label Encoder\", OneHotEncoder(categories = 'auto', drop = 'first'), [1])\n",
    "            ], \n",
    "            remainder = 'passthrough', n_jobs = 1)),\n",
    "        ('Normalizer', StandardScaler())\n",
    "    ]\n",
    ")"
   ]
  },
  {
   "cell_type": "code",
   "execution_count": 9,
   "metadata": {
    "id": "7_TO_-fQI0xp"
   },
   "outputs": [],
   "source": [
    "#Standardize the features\n",
    "X = pipeline.fit_transform(X)"
   ]
  },
  {
   "cell_type": "code",
   "execution_count": 10,
   "metadata": {
    "id": "OJ7VUetiI0xq"
   },
   "outputs": [],
   "source": [
    "#Spilt the data\n",
    "from sklearn.model_selection import train_test_split\n",
    "X_train, X_test, y_train, y_test = train_test_split(X, Y, test_size = 0.2, random_state = 0)"
   ]
  },
  {
   "cell_type": "code",
   "execution_count": 11,
   "metadata": {
    "id": "mX35INUFI0xr"
   },
   "outputs": [],
   "source": [
    "#Let us create the Neural Network\n",
    "from keras.models import Sequential\n",
    "from keras.layers import Dense, Dropout"
   ]
  },
  {
   "cell_type": "code",
   "execution_count": 12,
   "metadata": {
    "id": "VYIsyqOUI0xs"
   },
   "outputs": [],
   "source": [
    "#Initialize ANN\n",
    "classifier = Sequential()"
   ]
  },
  {
   "cell_type": "code",
   "execution_count": 13,
   "metadata": {
    "id": "i3nH8oOhJcp8"
   },
   "outputs": [],
   "source": [
    "#Add input layer and hidden layer\n",
    "classifier.add(Dense(6, activation = 'relu', input_shape = (X_train.shape[1], )))\n",
    "classifier.add(Dropout(rate = 0.1))"
   ]
  },
  {
   "cell_type": "code",
   "execution_count": 14,
   "metadata": {
    "id": "gULE3c-YPvsI"
   },
   "outputs": [],
   "source": [
    "#Add second layer\n",
    "classifier.add(Dense(6, activation = 'relu'))\n",
    "classifier.add(Dropout(rate = 0.1))"
   ]
  },
  {
   "cell_type": "code",
   "execution_count": 15,
   "metadata": {
    "id": "j_XpNLaSP9Qk"
   },
   "outputs": [],
   "source": [
    "#Add output layer\n",
    "classifier.add(Dense(1, activation = 'sigmoid'))"
   ]
  },
  {
   "cell_type": "code",
   "execution_count": 16,
   "metadata": {
    "colab": {
     "base_uri": "https://localhost:8080/"
    },
    "id": "5rodKUhIQUWH",
    "outputId": "a8dd63ea-6662-41f3-a43b-4f3f4567a06d"
   },
   "outputs": [
    {
     "name": "stdout",
     "output_type": "stream",
     "text": [
      "Model: \"sequential\"\n",
      "_________________________________________________________________\n",
      " Layer (type)                Output Shape              Param #   \n",
      "=================================================================\n",
      " dense (Dense)               (None, 6)                 72        \n",
      "                                                                 \n",
      " dropout (Dropout)           (None, 6)                 0         \n",
      "                                                                 \n",
      " dense_1 (Dense)             (None, 6)                 42        \n",
      "                                                                 \n",
      " dropout_1 (Dropout)         (None, 6)                 0         \n",
      "                                                                 \n",
      " dense_2 (Dense)             (None, 1)                 7         \n",
      "                                                                 \n",
      "=================================================================\n",
      "Total params: 121 (484.00 Byte)\n",
      "Trainable params: 121 (484.00 Byte)\n",
      "Non-trainable params: 0 (0.00 Byte)\n",
      "_________________________________________________________________\n"
     ]
    }
   ],
   "source": [
    "#Let us take a look at our network\n",
    "classifier.summary()"
   ]
  },
  {
   "cell_type": "code",
   "execution_count": 17,
   "metadata": {
    "id": "XfHGyyviSXed"
   },
   "outputs": [],
   "source": [
    "#Optimize the weights\n",
    "classifier.compile(optimizer = 'adam', loss = 'binary_crossentropy', metrics = ['accuracy'])"
   ]
  },
  {
   "cell_type": "code",
   "execution_count": 18,
   "metadata": {
    "colab": {
     "base_uri": "https://localhost:8080/"
    },
    "id": "7px7qzJQVhan",
    "outputId": "09d47fa7-684c-424c-f144-e86492bcfa24"
   },
   "outputs": [
    {
     "name": "stdout",
     "output_type": "stream",
     "text": [
      "Epoch 1/200\n",
      "225/225 - 2s - loss: 0.6308 - accuracy: 0.6994 - val_loss: 0.5543 - val_accuracy: 0.7912 - 2s/epoch - 7ms/step\n",
      "Epoch 2/200\n",
      "225/225 - 0s - loss: 0.5276 - accuracy: 0.7887 - val_loss: 0.4839 - val_accuracy: 0.7950 - 451ms/epoch - 2ms/step\n",
      "Epoch 3/200\n",
      "225/225 - 0s - loss: 0.4908 - accuracy: 0.7899 - val_loss: 0.4568 - val_accuracy: 0.7950 - 428ms/epoch - 2ms/step\n",
      "Epoch 4/200\n",
      "225/225 - 0s - loss: 0.4717 - accuracy: 0.7932 - val_loss: 0.4432 - val_accuracy: 0.7950 - 409ms/epoch - 2ms/step\n",
      "Epoch 5/200\n",
      "225/225 - 0s - loss: 0.4632 - accuracy: 0.7922 - val_loss: 0.4308 - val_accuracy: 0.7950 - 463ms/epoch - 2ms/step\n",
      "Epoch 6/200\n",
      "225/225 - 0s - loss: 0.4508 - accuracy: 0.7901 - val_loss: 0.4225 - val_accuracy: 0.7950 - 450ms/epoch - 2ms/step\n",
      "Epoch 7/200\n",
      "225/225 - 0s - loss: 0.4453 - accuracy: 0.7925 - val_loss: 0.4158 - val_accuracy: 0.7950 - 450ms/epoch - 2ms/step\n",
      "Epoch 8/200\n",
      "225/225 - 0s - loss: 0.4402 - accuracy: 0.7956 - val_loss: 0.4107 - val_accuracy: 0.7950 - 418ms/epoch - 2ms/step\n",
      "Epoch 9/200\n",
      "225/225 - 0s - loss: 0.4354 - accuracy: 0.7933 - val_loss: 0.4063 - val_accuracy: 0.7950 - 416ms/epoch - 2ms/step\n",
      "Epoch 10/200\n",
      "225/225 - 0s - loss: 0.4311 - accuracy: 0.7956 - val_loss: 0.4011 - val_accuracy: 0.7950 - 433ms/epoch - 2ms/step\n",
      "Epoch 11/200\n",
      "225/225 - 0s - loss: 0.4314 - accuracy: 0.8007 - val_loss: 0.3996 - val_accuracy: 0.7950 - 434ms/epoch - 2ms/step\n",
      "Epoch 12/200\n",
      "225/225 - 0s - loss: 0.4304 - accuracy: 0.8042 - val_loss: 0.3967 - val_accuracy: 0.7950 - 401ms/epoch - 2ms/step\n",
      "Epoch 13/200\n",
      "225/225 - 0s - loss: 0.4256 - accuracy: 0.8064 - val_loss: 0.3938 - val_accuracy: 0.8250 - 432ms/epoch - 2ms/step\n",
      "Epoch 14/200\n",
      "225/225 - 0s - loss: 0.4259 - accuracy: 0.8092 - val_loss: 0.3916 - val_accuracy: 0.8250 - 402ms/epoch - 2ms/step\n",
      "Epoch 15/200\n",
      "225/225 - 0s - loss: 0.4256 - accuracy: 0.8069 - val_loss: 0.3908 - val_accuracy: 0.8250 - 431ms/epoch - 2ms/step\n",
      "Epoch 16/200\n",
      "225/225 - 1s - loss: 0.4215 - accuracy: 0.8075 - val_loss: 0.3872 - val_accuracy: 0.8250 - 515ms/epoch - 2ms/step\n",
      "Epoch 17/200\n",
      "225/225 - 1s - loss: 0.4223 - accuracy: 0.8074 - val_loss: 0.3868 - val_accuracy: 0.8250 - 597ms/epoch - 3ms/step\n",
      "Epoch 18/200\n",
      "225/225 - 1s - loss: 0.4207 - accuracy: 0.8100 - val_loss: 0.3853 - val_accuracy: 0.8325 - 626ms/epoch - 3ms/step\n",
      "Epoch 19/200\n",
      "225/225 - 1s - loss: 0.4237 - accuracy: 0.8107 - val_loss: 0.3824 - val_accuracy: 0.8313 - 708ms/epoch - 3ms/step\n",
      "Epoch 20/200\n",
      "225/225 - 1s - loss: 0.4202 - accuracy: 0.8144 - val_loss: 0.3813 - val_accuracy: 0.8388 - 580ms/epoch - 3ms/step\n",
      "Epoch 21/200\n",
      "225/225 - 1s - loss: 0.4145 - accuracy: 0.8174 - val_loss: 0.3797 - val_accuracy: 0.8413 - 629ms/epoch - 3ms/step\n",
      "Epoch 22/200\n",
      "225/225 - 1s - loss: 0.4145 - accuracy: 0.8125 - val_loss: 0.3786 - val_accuracy: 0.8400 - 650ms/epoch - 3ms/step\n",
      "Epoch 23/200\n",
      "225/225 - 1s - loss: 0.4148 - accuracy: 0.8192 - val_loss: 0.3778 - val_accuracy: 0.8413 - 632ms/epoch - 3ms/step\n",
      "Epoch 24/200\n",
      "225/225 - 1s - loss: 0.4122 - accuracy: 0.8203 - val_loss: 0.3751 - val_accuracy: 0.8438 - 526ms/epoch - 2ms/step\n",
      "Epoch 25/200\n",
      "225/225 - 1s - loss: 0.4135 - accuracy: 0.8185 - val_loss: 0.3764 - val_accuracy: 0.8388 - 500ms/epoch - 2ms/step\n",
      "Epoch 26/200\n",
      "225/225 - 1s - loss: 0.4109 - accuracy: 0.8176 - val_loss: 0.3725 - val_accuracy: 0.8400 - 516ms/epoch - 2ms/step\n",
      "Epoch 27/200\n",
      "225/225 - 1s - loss: 0.4121 - accuracy: 0.8188 - val_loss: 0.3733 - val_accuracy: 0.8388 - 544ms/epoch - 2ms/step\n",
      "Epoch 28/200\n",
      "225/225 - 0s - loss: 0.4079 - accuracy: 0.8215 - val_loss: 0.3725 - val_accuracy: 0.8388 - 428ms/epoch - 2ms/step\n",
      "Epoch 29/200\n",
      "225/225 - 0s - loss: 0.4073 - accuracy: 0.8228 - val_loss: 0.3699 - val_accuracy: 0.8438 - 446ms/epoch - 2ms/step\n",
      "Epoch 30/200\n",
      "225/225 - 0s - loss: 0.4084 - accuracy: 0.8243 - val_loss: 0.3691 - val_accuracy: 0.8450 - 403ms/epoch - 2ms/step\n",
      "Epoch 31/200\n",
      "225/225 - 0s - loss: 0.4077 - accuracy: 0.8263 - val_loss: 0.3675 - val_accuracy: 0.8462 - 447ms/epoch - 2ms/step\n",
      "Epoch 32/200\n",
      "225/225 - 0s - loss: 0.4101 - accuracy: 0.8224 - val_loss: 0.3670 - val_accuracy: 0.8475 - 403ms/epoch - 2ms/step\n",
      "Epoch 33/200\n",
      "225/225 - 0s - loss: 0.4060 - accuracy: 0.8238 - val_loss: 0.3675 - val_accuracy: 0.8462 - 416ms/epoch - 2ms/step\n",
      "Epoch 34/200\n",
      "225/225 - 0s - loss: 0.4057 - accuracy: 0.8214 - val_loss: 0.3667 - val_accuracy: 0.8487 - 447ms/epoch - 2ms/step\n",
      "Epoch 35/200\n",
      "225/225 - 0s - loss: 0.4097 - accuracy: 0.8236 - val_loss: 0.3652 - val_accuracy: 0.8512 - 450ms/epoch - 2ms/step\n",
      "Epoch 36/200\n",
      "225/225 - 0s - loss: 0.4062 - accuracy: 0.8218 - val_loss: 0.3650 - val_accuracy: 0.8525 - 434ms/epoch - 2ms/step\n",
      "Epoch 37/200\n",
      "225/225 - 0s - loss: 0.3993 - accuracy: 0.8243 - val_loss: 0.3614 - val_accuracy: 0.8537 - 434ms/epoch - 2ms/step\n",
      "Epoch 38/200\n",
      "225/225 - 0s - loss: 0.4055 - accuracy: 0.8211 - val_loss: 0.3631 - val_accuracy: 0.8512 - 417ms/epoch - 2ms/step\n",
      "Epoch 39/200\n",
      "225/225 - 0s - loss: 0.4021 - accuracy: 0.8244 - val_loss: 0.3612 - val_accuracy: 0.8525 - 447ms/epoch - 2ms/step\n",
      "Epoch 40/200\n",
      "225/225 - 0s - loss: 0.4031 - accuracy: 0.8217 - val_loss: 0.3620 - val_accuracy: 0.8500 - 403ms/epoch - 2ms/step\n",
      "Epoch 41/200\n",
      "225/225 - 0s - loss: 0.4053 - accuracy: 0.8231 - val_loss: 0.3624 - val_accuracy: 0.8475 - 416ms/epoch - 2ms/step\n",
      "Epoch 42/200\n",
      "225/225 - 0s - loss: 0.4029 - accuracy: 0.8233 - val_loss: 0.3618 - val_accuracy: 0.8525 - 463ms/epoch - 2ms/step\n",
      "Epoch 43/200\n",
      "225/225 - 0s - loss: 0.4001 - accuracy: 0.8232 - val_loss: 0.3606 - val_accuracy: 0.8525 - 404ms/epoch - 2ms/step\n",
      "Epoch 44/200\n",
      "225/225 - 0s - loss: 0.4037 - accuracy: 0.8233 - val_loss: 0.3595 - val_accuracy: 0.8525 - 448ms/epoch - 2ms/step\n",
      "Epoch 45/200\n",
      "225/225 - 0s - loss: 0.4027 - accuracy: 0.8196 - val_loss: 0.3594 - val_accuracy: 0.8475 - 449ms/epoch - 2ms/step\n",
      "Epoch 46/200\n",
      "225/225 - 0s - loss: 0.4011 - accuracy: 0.8235 - val_loss: 0.3579 - val_accuracy: 0.8512 - 450ms/epoch - 2ms/step\n",
      "Epoch 47/200\n",
      "225/225 - 0s - loss: 0.3988 - accuracy: 0.8249 - val_loss: 0.3594 - val_accuracy: 0.8500 - 419ms/epoch - 2ms/step\n",
      "Epoch 48/200\n",
      "225/225 - 0s - loss: 0.4013 - accuracy: 0.8235 - val_loss: 0.3588 - val_accuracy: 0.8512 - 416ms/epoch - 2ms/step\n",
      "Epoch 49/200\n",
      "225/225 - 0s - loss: 0.3996 - accuracy: 0.8251 - val_loss: 0.3574 - val_accuracy: 0.8500 - 433ms/epoch - 2ms/step\n",
      "Epoch 50/200\n",
      "225/225 - 1s - loss: 0.4008 - accuracy: 0.8244 - val_loss: 0.3572 - val_accuracy: 0.8512 - 511ms/epoch - 2ms/step\n",
      "Epoch 51/200\n",
      "225/225 - 1s - loss: 0.4015 - accuracy: 0.8267 - val_loss: 0.3567 - val_accuracy: 0.8500 - 547ms/epoch - 2ms/step\n",
      "Epoch 52/200\n",
      "225/225 - 1s - loss: 0.4003 - accuracy: 0.8240 - val_loss: 0.3556 - val_accuracy: 0.8487 - 519ms/epoch - 2ms/step\n",
      "Epoch 53/200\n",
      "225/225 - 1s - loss: 0.3985 - accuracy: 0.8229 - val_loss: 0.3558 - val_accuracy: 0.8512 - 547ms/epoch - 2ms/step\n",
      "Epoch 54/200\n",
      "225/225 - 1s - loss: 0.3961 - accuracy: 0.8267 - val_loss: 0.3557 - val_accuracy: 0.8512 - 628ms/epoch - 3ms/step\n",
      "Epoch 55/200\n",
      "225/225 - 1s - loss: 0.3982 - accuracy: 0.8257 - val_loss: 0.3548 - val_accuracy: 0.8512 - 657ms/epoch - 3ms/step\n",
      "Epoch 56/200\n",
      "225/225 - 1s - loss: 0.4002 - accuracy: 0.8247 - val_loss: 0.3545 - val_accuracy: 0.8512 - 581ms/epoch - 3ms/step\n",
      "Epoch 57/200\n",
      "225/225 - 1s - loss: 0.3963 - accuracy: 0.8242 - val_loss: 0.3530 - val_accuracy: 0.8525 - 536ms/epoch - 2ms/step\n",
      "Epoch 58/200\n",
      "225/225 - 0s - loss: 0.3969 - accuracy: 0.8274 - val_loss: 0.3537 - val_accuracy: 0.8487 - 486ms/epoch - 2ms/step\n",
      "Epoch 59/200\n",
      "225/225 - 1s - loss: 0.3924 - accuracy: 0.8292 - val_loss: 0.3542 - val_accuracy: 0.8512 - 515ms/epoch - 2ms/step\n",
      "Epoch 60/200\n",
      "225/225 - 1s - loss: 0.3967 - accuracy: 0.8236 - val_loss: 0.3525 - val_accuracy: 0.8500 - 533ms/epoch - 2ms/step\n",
      "Epoch 61/200\n",
      "225/225 - 1s - loss: 0.3966 - accuracy: 0.8264 - val_loss: 0.3522 - val_accuracy: 0.8500 - 501ms/epoch - 2ms/step\n",
      "Epoch 62/200\n",
      "225/225 - 1s - loss: 0.3981 - accuracy: 0.8256 - val_loss: 0.3520 - val_accuracy: 0.8500 - 531ms/epoch - 2ms/step\n",
      "Epoch 63/200\n",
      "225/225 - 0s - loss: 0.3956 - accuracy: 0.8282 - val_loss: 0.3534 - val_accuracy: 0.8525 - 487ms/epoch - 2ms/step\n",
      "Epoch 64/200\n",
      "225/225 - 1s - loss: 0.3937 - accuracy: 0.8285 - val_loss: 0.3526 - val_accuracy: 0.8500 - 544ms/epoch - 2ms/step\n",
      "Epoch 65/200\n",
      "225/225 - 0s - loss: 0.3964 - accuracy: 0.8269 - val_loss: 0.3515 - val_accuracy: 0.8500 - 487ms/epoch - 2ms/step\n"
     ]
    },
    {
     "name": "stdout",
     "output_type": "stream",
     "text": [
      "Epoch 66/200\n",
      "225/225 - 1s - loss: 0.3943 - accuracy: 0.8294 - val_loss: 0.3510 - val_accuracy: 0.8525 - 590ms/epoch - 3ms/step\n",
      "Epoch 67/200\n",
      "225/225 - 1s - loss: 0.3934 - accuracy: 0.8275 - val_loss: 0.3506 - val_accuracy: 0.8500 - 586ms/epoch - 3ms/step\n",
      "Epoch 68/200\n",
      "225/225 - 1s - loss: 0.3965 - accuracy: 0.8260 - val_loss: 0.3513 - val_accuracy: 0.8500 - 746ms/epoch - 3ms/step\n",
      "Epoch 69/200\n",
      "225/225 - 1s - loss: 0.3978 - accuracy: 0.8256 - val_loss: 0.3506 - val_accuracy: 0.8512 - 577ms/epoch - 3ms/step\n",
      "Epoch 70/200\n",
      "225/225 - 0s - loss: 0.3930 - accuracy: 0.8282 - val_loss: 0.3518 - val_accuracy: 0.8512 - 414ms/epoch - 2ms/step\n",
      "Epoch 71/200\n",
      "225/225 - 0s - loss: 0.3936 - accuracy: 0.8283 - val_loss: 0.3523 - val_accuracy: 0.8500 - 413ms/epoch - 2ms/step\n",
      "Epoch 72/200\n",
      "225/225 - 0s - loss: 0.3953 - accuracy: 0.8261 - val_loss: 0.3530 - val_accuracy: 0.8487 - 403ms/epoch - 2ms/step\n",
      "Epoch 73/200\n",
      "225/225 - 0s - loss: 0.3948 - accuracy: 0.8297 - val_loss: 0.3504 - val_accuracy: 0.8512 - 402ms/epoch - 2ms/step\n",
      "Epoch 74/200\n",
      "225/225 - 0s - loss: 0.3973 - accuracy: 0.8285 - val_loss: 0.3516 - val_accuracy: 0.8500 - 391ms/epoch - 2ms/step\n",
      "Epoch 75/200\n",
      "225/225 - 0s - loss: 0.3940 - accuracy: 0.8269 - val_loss: 0.3506 - val_accuracy: 0.8487 - 399ms/epoch - 2ms/step\n",
      "Epoch 76/200\n",
      "225/225 - 0s - loss: 0.3954 - accuracy: 0.8300 - val_loss: 0.3508 - val_accuracy: 0.8500 - 401ms/epoch - 2ms/step\n",
      "Epoch 77/200\n",
      "225/225 - 0s - loss: 0.3938 - accuracy: 0.8285 - val_loss: 0.3496 - val_accuracy: 0.8475 - 431ms/epoch - 2ms/step\n",
      "Epoch 78/200\n",
      "225/225 - 1s - loss: 0.3920 - accuracy: 0.8286 - val_loss: 0.3507 - val_accuracy: 0.8500 - 620ms/epoch - 3ms/step\n",
      "Epoch 79/200\n",
      "225/225 - 1s - loss: 0.3946 - accuracy: 0.8288 - val_loss: 0.3507 - val_accuracy: 0.8500 - 601ms/epoch - 3ms/step\n",
      "Epoch 80/200\n",
      "225/225 - 1s - loss: 0.3932 - accuracy: 0.8281 - val_loss: 0.3503 - val_accuracy: 0.8500 - 567ms/epoch - 3ms/step\n",
      "Epoch 81/200\n",
      "225/225 - 1s - loss: 0.3960 - accuracy: 0.8263 - val_loss: 0.3501 - val_accuracy: 0.8500 - 583ms/epoch - 3ms/step\n",
      "Epoch 82/200\n",
      "225/225 - 1s - loss: 0.3960 - accuracy: 0.8289 - val_loss: 0.3493 - val_accuracy: 0.8475 - 644ms/epoch - 3ms/step\n",
      "Epoch 83/200\n",
      "225/225 - 1s - loss: 0.3957 - accuracy: 0.8267 - val_loss: 0.3491 - val_accuracy: 0.8487 - 697ms/epoch - 3ms/step\n",
      "Epoch 84/200\n",
      "225/225 - 1s - loss: 0.3893 - accuracy: 0.8281 - val_loss: 0.3492 - val_accuracy: 0.8500 - 701ms/epoch - 3ms/step\n",
      "Epoch 85/200\n",
      "225/225 - 1s - loss: 0.3939 - accuracy: 0.8288 - val_loss: 0.3485 - val_accuracy: 0.8487 - 635ms/epoch - 3ms/step\n",
      "Epoch 86/200\n",
      "225/225 - 1s - loss: 0.3876 - accuracy: 0.8289 - val_loss: 0.3477 - val_accuracy: 0.8512 - 633ms/epoch - 3ms/step\n",
      "Epoch 87/200\n",
      "225/225 - 1s - loss: 0.3947 - accuracy: 0.8292 - val_loss: 0.3482 - val_accuracy: 0.8475 - 509ms/epoch - 2ms/step\n",
      "Epoch 88/200\n",
      "225/225 - 0s - loss: 0.3889 - accuracy: 0.8299 - val_loss: 0.3476 - val_accuracy: 0.8525 - 484ms/epoch - 2ms/step\n",
      "Epoch 89/200\n",
      "225/225 - 0s - loss: 0.3946 - accuracy: 0.8267 - val_loss: 0.3477 - val_accuracy: 0.8525 - 499ms/epoch - 2ms/step\n",
      "Epoch 90/200\n",
      "225/225 - 0s - loss: 0.3899 - accuracy: 0.8311 - val_loss: 0.3487 - val_accuracy: 0.8500 - 484ms/epoch - 2ms/step\n",
      "Epoch 91/200\n",
      "225/225 - 0s - loss: 0.3904 - accuracy: 0.8261 - val_loss: 0.3465 - val_accuracy: 0.8462 - 498ms/epoch - 2ms/step\n",
      "Epoch 92/200\n",
      "225/225 - 0s - loss: 0.3910 - accuracy: 0.8279 - val_loss: 0.3467 - val_accuracy: 0.8512 - 485ms/epoch - 2ms/step\n",
      "Epoch 93/200\n",
      "225/225 - 0s - loss: 0.3883 - accuracy: 0.8269 - val_loss: 0.3479 - val_accuracy: 0.8525 - 499ms/epoch - 2ms/step\n",
      "Epoch 94/200\n",
      "225/225 - 0s - loss: 0.3928 - accuracy: 0.8301 - val_loss: 0.3452 - val_accuracy: 0.8475 - 500ms/epoch - 2ms/step\n",
      "Epoch 95/200\n",
      "225/225 - 1s - loss: 0.3910 - accuracy: 0.8257 - val_loss: 0.3459 - val_accuracy: 0.8487 - 593ms/epoch - 3ms/step\n",
      "Epoch 96/200\n",
      "225/225 - 1s - loss: 0.3912 - accuracy: 0.8285 - val_loss: 0.3470 - val_accuracy: 0.8475 - 716ms/epoch - 3ms/step\n",
      "Epoch 97/200\n",
      "225/225 - 1s - loss: 0.3890 - accuracy: 0.8267 - val_loss: 0.3462 - val_accuracy: 0.8512 - 658ms/epoch - 3ms/step\n",
      "Epoch 98/200\n",
      "225/225 - 0s - loss: 0.3914 - accuracy: 0.8288 - val_loss: 0.3464 - val_accuracy: 0.8487 - 424ms/epoch - 2ms/step\n",
      "Epoch 99/200\n",
      "225/225 - 0s - loss: 0.3926 - accuracy: 0.8269 - val_loss: 0.3474 - val_accuracy: 0.8487 - 417ms/epoch - 2ms/step\n",
      "Epoch 100/200\n",
      "225/225 - 0s - loss: 0.3920 - accuracy: 0.8260 - val_loss: 0.3468 - val_accuracy: 0.8500 - 447ms/epoch - 2ms/step\n",
      "Epoch 101/200\n",
      "225/225 - 0s - loss: 0.3906 - accuracy: 0.8257 - val_loss: 0.3455 - val_accuracy: 0.8500 - 410ms/epoch - 2ms/step\n",
      "Epoch 102/200\n",
      "225/225 - 1s - loss: 0.3880 - accuracy: 0.8292 - val_loss: 0.3453 - val_accuracy: 0.8500 - 587ms/epoch - 3ms/step\n",
      "Epoch 103/200\n",
      "225/225 - 1s - loss: 0.3870 - accuracy: 0.8300 - val_loss: 0.3453 - val_accuracy: 0.8500 - 553ms/epoch - 2ms/step\n",
      "Epoch 104/200\n",
      "225/225 - 1s - loss: 0.3886 - accuracy: 0.8307 - val_loss: 0.3457 - val_accuracy: 0.8500 - 612ms/epoch - 3ms/step\n",
      "Epoch 105/200\n",
      "225/225 - 0s - loss: 0.3923 - accuracy: 0.8297 - val_loss: 0.3472 - val_accuracy: 0.8500 - 459ms/epoch - 2ms/step\n",
      "Epoch 106/200\n",
      "225/225 - 0s - loss: 0.3868 - accuracy: 0.8310 - val_loss: 0.3457 - val_accuracy: 0.8512 - 452ms/epoch - 2ms/step\n",
      "Epoch 107/200\n",
      "225/225 - 0s - loss: 0.3884 - accuracy: 0.8297 - val_loss: 0.3452 - val_accuracy: 0.8512 - 463ms/epoch - 2ms/step\n",
      "Epoch 108/200\n",
      "225/225 - 0s - loss: 0.3906 - accuracy: 0.8307 - val_loss: 0.3451 - val_accuracy: 0.8462 - 422ms/epoch - 2ms/step\n",
      "Epoch 109/200\n",
      "225/225 - 0s - loss: 0.3858 - accuracy: 0.8328 - val_loss: 0.3445 - val_accuracy: 0.8500 - 448ms/epoch - 2ms/step\n",
      "Epoch 110/200\n",
      "225/225 - 1s - loss: 0.3865 - accuracy: 0.8324 - val_loss: 0.3450 - val_accuracy: 0.8487 - 535ms/epoch - 2ms/step\n",
      "Epoch 111/200\n",
      "225/225 - 1s - loss: 0.3850 - accuracy: 0.8276 - val_loss: 0.3450 - val_accuracy: 0.8500 - 536ms/epoch - 2ms/step\n",
      "Epoch 112/200\n",
      "225/225 - 1s - loss: 0.3904 - accuracy: 0.8285 - val_loss: 0.3467 - val_accuracy: 0.8487 - 519ms/epoch - 2ms/step\n",
      "Epoch 113/200\n",
      "225/225 - 1s - loss: 0.3915 - accuracy: 0.8282 - val_loss: 0.3453 - val_accuracy: 0.8512 - 642ms/epoch - 3ms/step\n",
      "Epoch 114/200\n",
      "225/225 - 1s - loss: 0.3881 - accuracy: 0.8294 - val_loss: 0.3443 - val_accuracy: 0.8537 - 536ms/epoch - 2ms/step\n",
      "Epoch 115/200\n",
      "225/225 - 1s - loss: 0.3876 - accuracy: 0.8297 - val_loss: 0.3446 - val_accuracy: 0.8512 - 543ms/epoch - 2ms/step\n",
      "Epoch 116/200\n",
      "225/225 - 0s - loss: 0.3905 - accuracy: 0.8288 - val_loss: 0.3451 - val_accuracy: 0.8500 - 487ms/epoch - 2ms/step\n",
      "Epoch 117/200\n",
      "225/225 - 0s - loss: 0.3878 - accuracy: 0.8321 - val_loss: 0.3438 - val_accuracy: 0.8550 - 390ms/epoch - 2ms/step\n",
      "Epoch 118/200\n",
      "225/225 - 0s - loss: 0.3866 - accuracy: 0.8314 - val_loss: 0.3448 - val_accuracy: 0.8500 - 402ms/epoch - 2ms/step\n",
      "Epoch 119/200\n",
      "225/225 - 0s - loss: 0.3921 - accuracy: 0.8292 - val_loss: 0.3434 - val_accuracy: 0.8537 - 399ms/epoch - 2ms/step\n",
      "Epoch 120/200\n",
      "225/225 - 0s - loss: 0.3838 - accuracy: 0.8307 - val_loss: 0.3438 - val_accuracy: 0.8512 - 400ms/epoch - 2ms/step\n",
      "Epoch 121/200\n",
      "225/225 - 0s - loss: 0.3877 - accuracy: 0.8300 - val_loss: 0.3438 - val_accuracy: 0.8525 - 399ms/epoch - 2ms/step\n",
      "Epoch 122/200\n",
      "225/225 - 0s - loss: 0.3903 - accuracy: 0.8297 - val_loss: 0.3431 - val_accuracy: 0.8537 - 415ms/epoch - 2ms/step\n",
      "Epoch 123/200\n",
      "225/225 - 0s - loss: 0.3909 - accuracy: 0.8313 - val_loss: 0.3453 - val_accuracy: 0.8512 - 403ms/epoch - 2ms/step\n",
      "Epoch 124/200\n",
      "225/225 - 0s - loss: 0.3861 - accuracy: 0.8344 - val_loss: 0.3444 - val_accuracy: 0.8500 - 399ms/epoch - 2ms/step\n",
      "Epoch 125/200\n",
      "225/225 - 0s - loss: 0.3907 - accuracy: 0.8299 - val_loss: 0.3439 - val_accuracy: 0.8512 - 401ms/epoch - 2ms/step\n",
      "Epoch 126/200\n",
      "225/225 - 1s - loss: 0.3859 - accuracy: 0.8314 - val_loss: 0.3439 - val_accuracy: 0.8525 - 556ms/epoch - 2ms/step\n",
      "Epoch 127/200\n",
      "225/225 - 1s - loss: 0.3907 - accuracy: 0.8283 - val_loss: 0.3445 - val_accuracy: 0.8537 - 576ms/epoch - 3ms/step\n",
      "Epoch 128/200\n",
      "225/225 - 0s - loss: 0.3873 - accuracy: 0.8294 - val_loss: 0.3444 - val_accuracy: 0.8537 - 428ms/epoch - 2ms/step\n",
      "Epoch 129/200\n",
      "225/225 - 1s - loss: 0.3908 - accuracy: 0.8264 - val_loss: 0.3440 - val_accuracy: 0.8537 - 528ms/epoch - 2ms/step\n",
      "Epoch 130/200\n",
      "225/225 - 0s - loss: 0.3852 - accuracy: 0.8278 - val_loss: 0.3437 - val_accuracy: 0.8475 - 499ms/epoch - 2ms/step\n"
     ]
    },
    {
     "name": "stdout",
     "output_type": "stream",
     "text": [
      "Epoch 131/200\n",
      "225/225 - 1s - loss: 0.3868 - accuracy: 0.8294 - val_loss: 0.3430 - val_accuracy: 0.8537 - 737ms/epoch - 3ms/step\n",
      "Epoch 132/200\n",
      "225/225 - 1s - loss: 0.3888 - accuracy: 0.8322 - val_loss: 0.3427 - val_accuracy: 0.8525 - 756ms/epoch - 3ms/step\n",
      "Epoch 133/200\n",
      "225/225 - 1s - loss: 0.3885 - accuracy: 0.8272 - val_loss: 0.3438 - val_accuracy: 0.8525 - 726ms/epoch - 3ms/step\n",
      "Epoch 134/200\n",
      "225/225 - 1s - loss: 0.3889 - accuracy: 0.8307 - val_loss: 0.3424 - val_accuracy: 0.8525 - 546ms/epoch - 2ms/step\n",
      "Epoch 135/200\n",
      "225/225 - 1s - loss: 0.3865 - accuracy: 0.8307 - val_loss: 0.3424 - val_accuracy: 0.8512 - 530ms/epoch - 2ms/step\n",
      "Epoch 136/200\n",
      "225/225 - 1s - loss: 0.3844 - accuracy: 0.8310 - val_loss: 0.3431 - val_accuracy: 0.8512 - 506ms/epoch - 2ms/step\n",
      "Epoch 137/200\n",
      "225/225 - 1s - loss: 0.3882 - accuracy: 0.8289 - val_loss: 0.3449 - val_accuracy: 0.8500 - 528ms/epoch - 2ms/step\n",
      "Epoch 138/200\n",
      "225/225 - 0s - loss: 0.3844 - accuracy: 0.8315 - val_loss: 0.3438 - val_accuracy: 0.8500 - 488ms/epoch - 2ms/step\n",
      "Epoch 139/200\n",
      "225/225 - 1s - loss: 0.3886 - accuracy: 0.8276 - val_loss: 0.3436 - val_accuracy: 0.8525 - 529ms/epoch - 2ms/step\n",
      "Epoch 140/200\n",
      "225/225 - 1s - loss: 0.3853 - accuracy: 0.8303 - val_loss: 0.3438 - val_accuracy: 0.8512 - 502ms/epoch - 2ms/step\n",
      "Epoch 141/200\n",
      "225/225 - 1s - loss: 0.3830 - accuracy: 0.8288 - val_loss: 0.3456 - val_accuracy: 0.8475 - 719ms/epoch - 3ms/step\n",
      "Epoch 142/200\n",
      "225/225 - 1s - loss: 0.3867 - accuracy: 0.8290 - val_loss: 0.3437 - val_accuracy: 0.8525 - 691ms/epoch - 3ms/step\n",
      "Epoch 143/200\n",
      "225/225 - 1s - loss: 0.3870 - accuracy: 0.8296 - val_loss: 0.3431 - val_accuracy: 0.8525 - 669ms/epoch - 3ms/step\n",
      "Epoch 144/200\n",
      "225/225 - 1s - loss: 0.3877 - accuracy: 0.8322 - val_loss: 0.3439 - val_accuracy: 0.8512 - 604ms/epoch - 3ms/step\n",
      "Epoch 145/200\n",
      "225/225 - 1s - loss: 0.3841 - accuracy: 0.8301 - val_loss: 0.3459 - val_accuracy: 0.8500 - 552ms/epoch - 2ms/step\n",
      "Epoch 146/200\n",
      "225/225 - 1s - loss: 0.3892 - accuracy: 0.8282 - val_loss: 0.3432 - val_accuracy: 0.8500 - 551ms/epoch - 2ms/step\n",
      "Epoch 147/200\n",
      "225/225 - 1s - loss: 0.3834 - accuracy: 0.8301 - val_loss: 0.3423 - val_accuracy: 0.8525 - 504ms/epoch - 2ms/step\n",
      "Epoch 148/200\n",
      "225/225 - 0s - loss: 0.3856 - accuracy: 0.8301 - val_loss: 0.3424 - val_accuracy: 0.8487 - 421ms/epoch - 2ms/step\n",
      "Epoch 149/200\n",
      "225/225 - 0s - loss: 0.3914 - accuracy: 0.8306 - val_loss: 0.3422 - val_accuracy: 0.8525 - 447ms/epoch - 2ms/step\n",
      "Epoch 150/200\n",
      "225/225 - 0s - loss: 0.3870 - accuracy: 0.8275 - val_loss: 0.3441 - val_accuracy: 0.8487 - 451ms/epoch - 2ms/step\n",
      "Epoch 151/200\n",
      "225/225 - 0s - loss: 0.3860 - accuracy: 0.8279 - val_loss: 0.3434 - val_accuracy: 0.8487 - 401ms/epoch - 2ms/step\n",
      "Epoch 152/200\n",
      "225/225 - 0s - loss: 0.3873 - accuracy: 0.8303 - val_loss: 0.3441 - val_accuracy: 0.8500 - 415ms/epoch - 2ms/step\n",
      "Epoch 153/200\n",
      "225/225 - 1s - loss: 0.3866 - accuracy: 0.8313 - val_loss: 0.3442 - val_accuracy: 0.8512 - 541ms/epoch - 2ms/step\n",
      "Epoch 154/200\n",
      "225/225 - 1s - loss: 0.3859 - accuracy: 0.8300 - val_loss: 0.3433 - val_accuracy: 0.8525 - 613ms/epoch - 3ms/step\n",
      "Epoch 155/200\n",
      "225/225 - 1s - loss: 0.3876 - accuracy: 0.8299 - val_loss: 0.3445 - val_accuracy: 0.8525 - 553ms/epoch - 2ms/step\n",
      "Epoch 156/200\n",
      "225/225 - 1s - loss: 0.3840 - accuracy: 0.8279 - val_loss: 0.3442 - val_accuracy: 0.8500 - 535ms/epoch - 2ms/step\n",
      "Epoch 157/200\n",
      "225/225 - 1s - loss: 0.3837 - accuracy: 0.8317 - val_loss: 0.3432 - val_accuracy: 0.8537 - 565ms/epoch - 3ms/step\n",
      "Epoch 158/200\n",
      "225/225 - 1s - loss: 0.3797 - accuracy: 0.8350 - val_loss: 0.3411 - val_accuracy: 0.8537 - 743ms/epoch - 3ms/step\n",
      "Epoch 159/200\n",
      "225/225 - 1s - loss: 0.3841 - accuracy: 0.8307 - val_loss: 0.3428 - val_accuracy: 0.8487 - 525ms/epoch - 2ms/step\n",
      "Epoch 160/200\n",
      "225/225 - 1s - loss: 0.3850 - accuracy: 0.8301 - val_loss: 0.3421 - val_accuracy: 0.8537 - 548ms/epoch - 2ms/step\n",
      "Epoch 161/200\n",
      "225/225 - 1s - loss: 0.3808 - accuracy: 0.8304 - val_loss: 0.3427 - val_accuracy: 0.8525 - 504ms/epoch - 2ms/step\n",
      "Epoch 162/200\n",
      "225/225 - 0s - loss: 0.3846 - accuracy: 0.8299 - val_loss: 0.3418 - val_accuracy: 0.8550 - 484ms/epoch - 2ms/step\n",
      "Epoch 163/200\n",
      "225/225 - 0s - loss: 0.3807 - accuracy: 0.8319 - val_loss: 0.3429 - val_accuracy: 0.8512 - 481ms/epoch - 2ms/step\n",
      "Epoch 164/200\n",
      "225/225 - 0s - loss: 0.3849 - accuracy: 0.8329 - val_loss: 0.3430 - val_accuracy: 0.8500 - 483ms/epoch - 2ms/step\n",
      "Epoch 165/200\n",
      "225/225 - 0s - loss: 0.3847 - accuracy: 0.8306 - val_loss: 0.3423 - val_accuracy: 0.8525 - 484ms/epoch - 2ms/step\n",
      "Epoch 166/200\n",
      "225/225 - 0s - loss: 0.3824 - accuracy: 0.8283 - val_loss: 0.3423 - val_accuracy: 0.8500 - 488ms/epoch - 2ms/step\n",
      "Epoch 167/200\n",
      "225/225 - 0s - loss: 0.3864 - accuracy: 0.8294 - val_loss: 0.3440 - val_accuracy: 0.8512 - 490ms/epoch - 2ms/step\n",
      "Epoch 168/200\n",
      "225/225 - 0s - loss: 0.3841 - accuracy: 0.8324 - val_loss: 0.3440 - val_accuracy: 0.8512 - 492ms/epoch - 2ms/step\n",
      "Epoch 169/200\n",
      "225/225 - 0s - loss: 0.3851 - accuracy: 0.8313 - val_loss: 0.3440 - val_accuracy: 0.8500 - 495ms/epoch - 2ms/step\n",
      "Epoch 170/200\n",
      "225/225 - 0s - loss: 0.3890 - accuracy: 0.8292 - val_loss: 0.3429 - val_accuracy: 0.8525 - 483ms/epoch - 2ms/step\n",
      "Epoch 171/200\n",
      "225/225 - 1s - loss: 0.3851 - accuracy: 0.8297 - val_loss: 0.3451 - val_accuracy: 0.8525 - 670ms/epoch - 3ms/step\n",
      "Epoch 172/200\n",
      "225/225 - 1s - loss: 0.3830 - accuracy: 0.8324 - val_loss: 0.3427 - val_accuracy: 0.8525 - 807ms/epoch - 4ms/step\n",
      "Epoch 173/200\n",
      "225/225 - 1s - loss: 0.3867 - accuracy: 0.8325 - val_loss: 0.3448 - val_accuracy: 0.8512 - 791ms/epoch - 4ms/step\n",
      "Epoch 174/200\n",
      "225/225 - 1s - loss: 0.3826 - accuracy: 0.8299 - val_loss: 0.3426 - val_accuracy: 0.8550 - 644ms/epoch - 3ms/step\n",
      "Epoch 175/200\n",
      "225/225 - 1s - loss: 0.3848 - accuracy: 0.8322 - val_loss: 0.3422 - val_accuracy: 0.8537 - 665ms/epoch - 3ms/step\n",
      "Epoch 176/200\n",
      "225/225 - 1s - loss: 0.3866 - accuracy: 0.8328 - val_loss: 0.3435 - val_accuracy: 0.8500 - 634ms/epoch - 3ms/step\n",
      "Epoch 177/200\n",
      "225/225 - 1s - loss: 0.3878 - accuracy: 0.8311 - val_loss: 0.3432 - val_accuracy: 0.8500 - 632ms/epoch - 3ms/step\n",
      "Epoch 178/200\n",
      "225/225 - 1s - loss: 0.3853 - accuracy: 0.8292 - val_loss: 0.3440 - val_accuracy: 0.8512 - 509ms/epoch - 2ms/step\n",
      "Epoch 179/200\n",
      "225/225 - 0s - loss: 0.3857 - accuracy: 0.8300 - val_loss: 0.3432 - val_accuracy: 0.8512 - 500ms/epoch - 2ms/step\n",
      "Epoch 180/200\n",
      "225/225 - 0s - loss: 0.3887 - accuracy: 0.8283 - val_loss: 0.3430 - val_accuracy: 0.8512 - 499ms/epoch - 2ms/step\n",
      "Epoch 181/200\n",
      "225/225 - 0s - loss: 0.3856 - accuracy: 0.8303 - val_loss: 0.3443 - val_accuracy: 0.8512 - 485ms/epoch - 2ms/step\n",
      "Epoch 182/200\n",
      "225/225 - 0s - loss: 0.3822 - accuracy: 0.8289 - val_loss: 0.3438 - val_accuracy: 0.8500 - 498ms/epoch - 2ms/step\n",
      "Epoch 183/200\n",
      "225/225 - 0s - loss: 0.3899 - accuracy: 0.8314 - val_loss: 0.3441 - val_accuracy: 0.8512 - 484ms/epoch - 2ms/step\n",
      "Epoch 184/200\n",
      "225/225 - 1s - loss: 0.3827 - accuracy: 0.8333 - val_loss: 0.3437 - val_accuracy: 0.8525 - 514ms/epoch - 2ms/step\n",
      "Epoch 185/200\n",
      "225/225 - 0s - loss: 0.3843 - accuracy: 0.8293 - val_loss: 0.3447 - val_accuracy: 0.8512 - 485ms/epoch - 2ms/step\n",
      "Epoch 186/200\n",
      "225/225 - 0s - loss: 0.3876 - accuracy: 0.8306 - val_loss: 0.3440 - val_accuracy: 0.8512 - 499ms/epoch - 2ms/step\n",
      "Epoch 187/200\n",
      "225/225 - 0s - loss: 0.3853 - accuracy: 0.8303 - val_loss: 0.3452 - val_accuracy: 0.8450 - 484ms/epoch - 2ms/step\n",
      "Epoch 188/200\n",
      "225/225 - 1s - loss: 0.3885 - accuracy: 0.8271 - val_loss: 0.3448 - val_accuracy: 0.8500 - 529ms/epoch - 2ms/step\n",
      "Epoch 189/200\n",
      "225/225 - 1s - loss: 0.3888 - accuracy: 0.8335 - val_loss: 0.3440 - val_accuracy: 0.8450 - 658ms/epoch - 3ms/step\n",
      "Epoch 190/200\n",
      "225/225 - 1s - loss: 0.3868 - accuracy: 0.8294 - val_loss: 0.3446 - val_accuracy: 0.8500 - 697ms/epoch - 3ms/step\n",
      "Epoch 191/200\n",
      "225/225 - 1s - loss: 0.3848 - accuracy: 0.8311 - val_loss: 0.3441 - val_accuracy: 0.8500 - 668ms/epoch - 3ms/step\n",
      "Epoch 192/200\n",
      "225/225 - 1s - loss: 0.3871 - accuracy: 0.8275 - val_loss: 0.3429 - val_accuracy: 0.8500 - 542ms/epoch - 2ms/step\n",
      "Epoch 193/200\n",
      "225/225 - 1s - loss: 0.3803 - accuracy: 0.8333 - val_loss: 0.3425 - val_accuracy: 0.8525 - 611ms/epoch - 3ms/step\n",
      "Epoch 194/200\n",
      "225/225 - 1s - loss: 0.3824 - accuracy: 0.8304 - val_loss: 0.3420 - val_accuracy: 0.8512 - 569ms/epoch - 3ms/step\n",
      "Epoch 195/200\n"
     ]
    },
    {
     "name": "stdout",
     "output_type": "stream",
     "text": [
      "225/225 - 1s - loss: 0.3857 - accuracy: 0.8306 - val_loss: 0.3455 - val_accuracy: 0.8450 - 756ms/epoch - 3ms/step\n",
      "Epoch 196/200\n",
      "225/225 - 1s - loss: 0.3808 - accuracy: 0.8326 - val_loss: 0.3429 - val_accuracy: 0.8487 - 741ms/epoch - 3ms/step\n",
      "Epoch 197/200\n",
      "225/225 - 1s - loss: 0.3843 - accuracy: 0.8314 - val_loss: 0.3420 - val_accuracy: 0.8512 - 654ms/epoch - 3ms/step\n",
      "Epoch 198/200\n",
      "225/225 - 1s - loss: 0.3848 - accuracy: 0.8256 - val_loss: 0.3434 - val_accuracy: 0.8500 - 572ms/epoch - 3ms/step\n",
      "Epoch 199/200\n",
      "225/225 - 1s - loss: 0.3835 - accuracy: 0.8315 - val_loss: 0.3435 - val_accuracy: 0.8525 - 537ms/epoch - 2ms/step\n",
      "Epoch 200/200\n",
      "225/225 - 1s - loss: 0.3845 - accuracy: 0.8304 - val_loss: 0.3439 - val_accuracy: 0.8512 - 552ms/epoch - 2ms/step\n"
     ]
    }
   ],
   "source": [
    "#Fitting the Neural Network\n",
    "history = classifier.fit(X_train, y_train, batch_size = 32, epochs = 200, validation_split = 0.1, verbose = 2)"
   ]
  },
  {
   "cell_type": "code",
   "execution_count": 19,
   "metadata": {
    "colab": {
     "base_uri": "https://localhost:8080/"
    },
    "id": "aq1-eNM2YqL8",
    "outputId": "0fd0fa0a-cf54-4637-f8b6-f15342002a15"
   },
   "outputs": [
    {
     "name": "stdout",
     "output_type": "stream",
     "text": [
      "63/63 [==============================] - 0s 3ms/step\n",
      "[[0.27081585]\n",
      " [0.36896664]\n",
      " [0.21612236]\n",
      " [0.10636221]\n",
      " [0.09059718]]\n"
     ]
    }
   ],
   "source": [
    "y_pred = classifier.predict(X_test)\n",
    "print(y_pred[:5])"
   ]
  },
  {
   "cell_type": "code",
   "execution_count": 20,
   "metadata": {
    "colab": {
     "base_uri": "https://localhost:8080/"
    },
    "id": "S8JJz5bLY-7I",
    "outputId": "00827497-0dfb-49c4-d70b-2071d70ae5f0"
   },
   "outputs": [
    {
     "name": "stdout",
     "output_type": "stream",
     "text": [
      "[[0]\n",
      " [0]\n",
      " [0]\n",
      " [0]\n",
      " [0]]\n"
     ]
    }
   ],
   "source": [
    "#Let us use confusion matrix with cutoff value as 0.5\n",
    "y_pred = (y_pred > 0.5).astype(int)\n",
    "print(y_pred[:5])"
   ]
  },
  {
   "cell_type": "code",
   "execution_count": 21,
   "metadata": {
    "colab": {
     "base_uri": "https://localhost:8080/"
    },
    "id": "Bcyv6h2UZPbO",
    "outputId": "6ca6b222-2516-4b03-c081-1ba7feaa6817"
   },
   "outputs": [
    {
     "name": "stdout",
     "output_type": "stream",
     "text": [
      "[[1546   49]\n",
      " [ 279  126]]\n"
     ]
    }
   ],
   "source": [
    "#Making the Matrix\n",
    "from sklearn.metrics import confusion_matrix\n",
    "cm = confusion_matrix(y_test, y_pred)\n",
    "print(cm)"
   ]
  },
  {
   "cell_type": "code",
   "execution_count": 22,
   "metadata": {
    "colab": {
     "base_uri": "https://localhost:8080/"
    },
    "id": "l3weViSLZc1v",
    "outputId": "64895b62-30f8-4e86-e592-d3fae20b2673"
   },
   "outputs": [
    {
     "name": "stdout",
     "output_type": "stream",
     "text": [
      "83.6 % of data was classified correctly\n"
     ]
    }
   ],
   "source": [
    "#Accuracy of our NN\n",
    "print(((cm[0][0] + cm[1][1])* 100) / len(y_test), '% of data was classified correctly')"
   ]
  },
  {
   "cell_type": "code",
   "execution_count": null,
   "metadata": {},
   "outputs": [],
   "source": []
  }
 ],
 "metadata": {
  "colab": {
   "provenance": []
  },
  "interpreter": {
   "hash": "f82e9eef39fec3b4432bd3d531b07136b7f172564442eec42315ae171445fe6f"
  },
  "kernelspec": {
   "display_name": "Python 3 (ipykernel)",
   "language": "python",
   "name": "python3"
  },
  "language_info": {
   "codemirror_mode": {
    "name": "ipython",
    "version": 3
   },
   "file_extension": ".py",
   "mimetype": "text/x-python",
   "name": "python",
   "nbconvert_exporter": "python",
   "pygments_lexer": "ipython3",
   "version": "3.11.5"
  }
 },
 "nbformat": 4,
 "nbformat_minor": 1
}
